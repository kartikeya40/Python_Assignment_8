{
 "cells": [
  {
   "cell_type": "code",
   "execution_count": null,
   "id": "051e52de",
   "metadata": {},
   "outputs": [],
   "source": [
    "1.Is the Python Standard Library included with PyInputPlus?"
   ]
  },
  {
   "cell_type": "markdown",
   "id": "23dde35c",
   "metadata": {},
   "source": [
    "PyInputPlus is not the part of Python standard library"
   ]
  },
  {
   "cell_type": "markdown",
   "id": "859f8804",
   "metadata": {},
   "source": [
    "2.Why is PyInputPlus commonly imported with import pyinputplus as pypi?"
   ]
  },
  {
   "cell_type": "markdown",
   "id": "5ad3c9b3",
   "metadata": {},
   "source": [
    "It's a great abbreviation for pyinputplus"
   ]
  },
  {
   "cell_type": "code",
   "execution_count": null,
   "id": "087aa360",
   "metadata": {},
   "outputs": [],
   "source": [
    "3.How do you distinguish between inputInt() and inputFloat()?"
   ]
  },
  {
   "cell_type": "markdown",
   "id": "0a3dcc3c",
   "metadata": {},
   "source": [
    "inputInt() - Only accepts INT values\n",
    "inputFloat() - Accepts both INT and FLOAT values. Automatically converst int to float"
   ]
  },
  {
   "cell_type": "code",
   "execution_count": null,
   "id": "a5de9547",
   "metadata": {},
   "outputs": [],
   "source": [
    "4.Using PyInputPlus, how do you ensure that the user enters a whole number between 0 and 99?"
   ]
  },
  {
   "cell_type": "markdown",
   "id": "b8371204",
   "metadata": {},
   "source": [
    "inp = pyip.inputInt(prompt = \"Enter an Int\",min = 0, lessThan = 99 )"
   ]
  },
  {
   "cell_type": "code",
   "execution_count": null,
   "id": "59631b39",
   "metadata": {},
   "outputs": [],
   "source": [
    "5.What is transferred to the keyword arguments allowRegexes and blockRegexes?"
   ]
  },
  {
   "cell_type": "markdown",
   "id": "e59ad484",
   "metadata": {},
   "source": [
    "A raw string is passed into allowRegexes and blockRegexes. These arguments determine strings which can be passed as inputs "
   ]
  },
  {
   "cell_type": "markdown",
   "id": "9430748c",
   "metadata": {},
   "source": [
    "6.If a blank input is entered three times, what does inputStr(limit=3) do?"
   ]
  },
  {
   "cell_type": "code",
   "execution_count": null,
   "id": "835f9292",
   "metadata": {},
   "outputs": [],
   "source": [
    "If more than 3 blanks are supplied, errors is thrown are the input"
   ]
  },
  {
   "cell_type": "markdown",
   "id": "c9196bf0",
   "metadata": {},
   "source": [
    "7.If blank input is entered three times, what does inputStr(limit=3, default='hello') do?"
   ]
  },
  {
   "cell_type": "markdown",
   "id": "f65d5dc1",
   "metadata": {},
   "source": [
    "If more than 3 blanks are supplied, the output is defaulted to 'hello'"
   ]
  }
 ],
 "metadata": {
  "kernelspec": {
   "display_name": "Python 3 (ipykernel)",
   "language": "python",
   "name": "python3"
  },
  "language_info": {
   "codemirror_mode": {
    "name": "ipython",
    "version": 3
   },
   "file_extension": ".py",
   "mimetype": "text/x-python",
   "name": "python",
   "nbconvert_exporter": "python",
   "pygments_lexer": "ipython3",
   "version": "3.9.7"
  }
 },
 "nbformat": 4,
 "nbformat_minor": 5
}
